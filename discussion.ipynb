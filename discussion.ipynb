{
 "cells": [
  {
   "cell_type": "markdown",
   "metadata": {},
   "source": [
    "　atmaCup講義#1を拝見させていただきました。  \n",
    "　機械学習歴数ヶ月の初心者、RandyGenというものです。コンペも初参加です。  \n",
    "\n",
    "　自分は`read_csv`を使う際に以下のmy original source codeのように記述しているのですが、`read_csv`の処理において`os.path.join`を採用する理由等のメリット、また自分の書いたコードの場合どのようなケースでデメリットになりうるのか教えて欲しいです。  \n",
    "　ちなみに自分の書いたコードで実行できなかったわけではありません。  \n",
    "\n",
    "(train.csv, test.csvのパスが異なるのは無視してください)  \n",
    "  \n",
    "　自分は1年ほどpandasに触れてきたものの人にコードを見てもらう機会がなく思い通りの処理が出来れば他に疑問を抱くことがありませんでした。学習モデルの作成に該当しない部分でもどのような理由でそのコードを採用しているのか知りたいので初歩的な内容で申し訳ないのですが、教えていただけると幸いです。"
   ]
  },
  {
   "cell_type": "code",
   "execution_count": null,
   "metadata": {},
   "outputs": [],
   "source": [
    "# my original source code\n",
    "import pandas as pd\n",
    "from pandas_profiling import ProfileReport\n",
    "import os\n",
    "\n",
    "PATHS = \n",
    "{\n",
    "    'train': 'atmacup10_dataset/train.csv',\n",
    "    'test': 'atmacup10_dataset/test.csv'\n",
    "}\n",
    "\n",
    "train_df = pd.read_csv(PATHS['train'])\n",
    "test_df = pd.read_csv(PATH['test'])\n",
    "\n",
    "report = ProfileReport(train_df)\n",
    "report.to_file(os.path.join('output', 'train_report.html'))"
   ]
  },
  {
   "cell_type": "code",
   "execution_count": null,
   "metadata": {},
   "outputs": [],
   "source": [
    "# atmaCup 講座1 source code\n",
    "import os\n",
    "\n",
    "import pandas as pd\n",
    "\n",
    "from pandas_profiling import ProfileReport # profile report を作る用\n",
    "\n",
    "INPUT_DIR = '/analysis/data/tutorial/inputs/'\n",
    "OUTPUT_DIR = '/analysis/data/tutorial/outputs/'\n",
    "\n",
    "os.makedirs(OUTPUT_DIR, exist_ok=True)\n",
    "\n",
    "train_df = pd.read_csv(os.path.join(INPUT_DIR, 'train.csv'))\n",
    "test_df = pd.read_csv(os.path.join(INPUT_DIR, 'test.csv'))\n",
    "\n",
    "report = ProfileReport(train_df)\n",
    "report.to_file(os.path.join(OUTPUT_DIR, 'train_report.html'))"
   ]
  }
 ],
 "metadata": {
  "kernelspec": {
   "display_name": "Python 3",
   "language": "python",
   "name": "python3"
  },
  "language_info": {
   "codemirror_mode": {
    "name": "ipython",
    "version": 3
   },
   "file_extension": ".py",
   "mimetype": "text/x-python",
   "name": "python",
   "nbconvert_exporter": "python",
   "pygments_lexer": "ipython3",
   "version": "3.7.3"
  }
 },
 "nbformat": 4,
 "nbformat_minor": 4
}
