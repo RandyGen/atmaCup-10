{
 "cells": [
  {
   "cell_type": "code",
   "execution_count": 1,
   "metadata": {},
   "outputs": [],
   "source": [
    "import os\n",
    "import pandas as pd\n",
    "import matplotlib.pyplot as plt\n",
    "import numpy as np\n",
    "import seaborn as sns\n",
    "from sklearn.preprocessing import LabelEncoder\n",
    "from pandas_profiling import ProfileReport # profile report を作る用"
   ]
  },
  {
   "cell_type": "code",
   "execution_count": 2,
   "metadata": {},
   "outputs": [],
   "source": [
    "INPUT_DIR = 'atmacup10_dataset'\n",
    "OUTPUT_DIR = 'outputs'\n",
    "\n",
    "os.makedirs(OUTPUT_DIR, exist_ok=True)\n",
    "\n",
    "train_df = pd.read_csv(os.path.join(INPUT_DIR, 'train.csv'))\n",
    "test_df = pd.read_csv(os.path.join(INPUT_DIR, 'test.csv'))\n",
    "color_df = pd.read_csv(os.path.join(INPUT_DIR, \"color.csv\"))\n",
    "historical_person_df = pd.read_csv(os.path.join(INPUT_DIR, \"historical_person.csv\"))\n",
    "maker_df = pd.read_csv(os.path.join(INPUT_DIR, \"maker.csv\"))\n",
    "material_df = pd.read_csv(os.path.join(INPUT_DIR, \"material.csv\"))\n",
    "object_collection_df = pd.read_csv(os.path.join(INPUT_DIR, \"object_collection.csv\"))\n",
    "palette_df = pd.read_csv(os.path.join(INPUT_DIR, \"palette.csv\"))\n",
    "principal_maker_df = pd.read_csv(os.path.join(INPUT_DIR, \"principal_maker.csv\"))\n",
    "principal_maker_occupation_df = pd.read_csv(os.path.join(INPUT_DIR, \"principal_maker_occupation.csv\"))\n",
    "production_place_df = pd.read_csv(os.path.join(INPUT_DIR, \"production_place.csv\"))\n",
    "technique_df = pd.read_csv(os.path.join(INPUT_DIR, \"technique.csv\"))"
   ]
  },
  {
   "cell_type": "code",
   "execution_count": 4,
   "metadata": {},
   "outputs": [
    {
     "data": {
      "text/plain": [
       "str"
      ]
     },
     "execution_count": 4,
     "metadata": {},
     "output_type": "execute_result"
    }
   ],
   "source": [
    "type(train_df['object_id'][0])"
   ]
  },
  {
   "cell_type": "code",
   "execution_count": 9,
   "metadata": {},
   "outputs": [],
   "source": [
    "main_makers_list = pd.DataFrame(train_df['principal_maker'].value_counts())  # anonymous == unknown\n",
    "main_makers_list.rename(columns={'principal_maker': 'main_object_count'}, inplace=True)\n",
    "main_makers_list['name'] = main_makers_list.index\n",
    "main_makers_list.replace(1692, np.nan, inplace=True)\n",
    "\n",
    "sub_makers_list = pd.DataFrame(train_df['principal_or_first_maker'].value_counts())  # anonymous == unknown\n",
    "sub_makers_list.rename(columns={'principal_or_first_maker': 'sub_object_count'}, inplace=True)\n",
    "sub_makers_list['name'] = sub_makers_list.index\n",
    "sub_makers_list.replace(1650, np.nan, inplace=True)\n",
    "\n",
    "train_df = pd.merge(train_df, main_makers_list, left_on='principal_maker', right_on='name', how='left')\n",
    "train_df = pd.merge(train_df, sub_makers_list, left_on='principal_or_first_maker', right_on='name', how='left')"
   ]
  },
  {
   "cell_type": "code",
   "execution_count": 10,
   "metadata": {},
   "outputs": [],
   "source": [
    "# train_df.query(\"likes < 20\")[[\"desc_len\", \"likes\"]]\n",
    "train_df['desc_len'] = train_df['description'].str.len()"
   ]
  },
  {
   "cell_type": "code",
   "execution_count": 11,
   "metadata": {},
   "outputs": [
    {
     "name": "stderr",
     "output_type": "stream",
     "text": [
      "Warning : `load_model` does not return WordVectorModel or SupervisedModel any more, but a `FastText` object which is very similar.\n"
     ]
    }
   ],
   "source": [
    "from fasttext import load_model\n",
    "\n",
    "model = load_model(\"bin/lid.176.bin\")\n",
    "\n",
    "train_df[\"title_lang_ft\"] = train_df[\"title\"].fillna(\"\").map(lambda x: model.predict(x.replace(\"\\n\", \"\"))[0][0])"
   ]
  },
  {
   "cell_type": "code",
   "execution_count": 12,
   "metadata": {},
   "outputs": [],
   "source": [
    "from PIL import ImageColor\n",
    "import colorsys"
   ]
  },
  {
   "cell_type": "code",
   "execution_count": 7,
   "metadata": {
    "jupyter": {
     "source_hidden": true
    }
   },
   "outputs": [],
   "source": [
    "tmp = pd.DataFrame(color_df['hex'].str.strip().map(ImageColor.getrgb).values.tolist(), columns=['R', 'G', 'B'])\n",
    "color_df_add_rgb = pd.concat([color_df, tmp], axis=1)\n",
    "\n",
    "function = lambda x: colorsys.rgb_to_hsv(x[3], x[4], x[5])\n",
    "tmp = color_df_add_rgb.apply(function, axis=1)\n",
    "tmp = pd.DataFrame(list(tmp), columns=['H', 'S', 'V'])\n",
    "color_df_rgb_hsv = pd.concat([color_df_add_rgb, tmp], axis=1)\n",
    "\n",
    "train_df = pd.merge(train_df, color_df_rgb_hsv, on='object_id')"
   ]
  },
  {
   "cell_type": "markdown",
   "metadata": {},
   "source": [
    "直接は不可  \n",
    "color_df_add_rgb = pd.concat([color_df, pd.DataFrame(color_df['hex'].str.strip().map(ImageColor.getrgb).values.tolist(), columns=['R', 'G', 'B'])], axis=1)"
   ]
  },
  {
   "cell_type": "code",
   "execution_count": 13,
   "metadata": {},
   "outputs": [],
   "source": [
    "palette_df['percentage'] = palette_df['ratio'] * 100\n",
    "\n",
    "function = lambda x: colorsys.rgb_to_hsv(x[1], x[2], x[3])\n",
    "tmp = palette_df.apply(function, axis=1)\n",
    "tmp = pd.DataFrame(list(tmp), columns=['color_H', 'color_S', 'color_V'])\n",
    "palette_df_add_hsv = pd.concat([palette_df, tmp], axis=1)\n",
    "\n",
    "train_df = pd.merge(train_df, palette_df_add_hsv, on='object_id')"
   ]
  },
  {
   "cell_type": "code",
   "execution_count": 14,
   "metadata": {},
   "outputs": [],
   "source": [
    "from geopy.geocoders import Nominatim\n",
    "import numpy as np\n",
    "\n",
    "def place2country(address):\n",
    "    geolocator = Nominatim(user_agent='sample', timeout=200)\n",
    "    loc = geolocator.geocode(address, language='en')\n",
    "    coordinates = (loc.latitude, loc.longitude)\n",
    "    location = geolocator.reverse(coordinates, language='en')\n",
    "    country = location.raw['address']['country']\n",
    "    return country"
   ]
  },
  {
   "cell_type": "code",
   "execution_count": 15,
   "metadata": {},
   "outputs": [
    {
     "name": "stderr",
     "output_type": "stream",
     "text": [
      "C:\\Users\\randy\\Anaconda3\\lib\\site-packages\\ipykernel_launcher.py:5: TqdmDeprecationWarning: This function will be removed in tqdm==5.0.0\n",
      "Please use `tqdm.notebook.tqdm` instead of `tqdm.tqdm_notebook`\n",
      "  \"\"\"\n"
     ]
    },
    {
     "data": {
      "application/vnd.jupyter.widget-view+json": {
       "model_id": "09319d9bcb27457cba21273dde2c7ebc",
       "version_major": 2,
       "version_minor": 0
      },
      "text/plain": [
       "  0%|          | 0/144 [00:00<?, ?it/s]"
      ]
     },
     "metadata": {},
     "output_type": "display_data"
    }
   ],
   "source": [
    "from tqdm import tqdm_notebook as tqdm\n",
    "\n",
    "place_list = production_place_df['name'].unique()\n",
    "country_dict = {}\n",
    "for place in tqdm(place_list):\n",
    "    try:\n",
    "        country = place2country(place)\n",
    "        country_dict[place] = country\n",
    "    except:\n",
    "        # 国名を取得できない場合はnan\n",
    "        country_dict[place] = np.nan"
   ]
  },
  {
   "cell_type": "code",
   "execution_count": 16,
   "metadata": {},
   "outputs": [],
   "source": [
    "production_place_df['country_name'] = production_place_df['name'].map(country_dict)\n",
    "\n",
    "train_df = pd.merge(train_df, production_place_df, on='object_id')"
   ]
  },
  {
   "cell_type": "code",
   "execution_count": 17,
   "metadata": {},
   "outputs": [],
   "source": [
    "train_df = train_df[['object_id', 'art_series_id', 'dating_sorting_date', 'dating_year_early', 'dating_year_late', 'likes', 'main_object_count', 'sub_object_count',\n",
    "                    'desc_len', 'title_lang_ft', 'ratio', 'color_r', 'color_g', 'color_b', 'percentage', 'color_H', 'color_S', 'color_V', 'name']].drop_duplicates(subset=['object_id', 'art_series_id', 'dating_sorting_date', 'dating_year_early', 'dating_year_late', 'likes', 'main_object_count', 'sub_object_count',\n",
    "                    'desc_len', 'title_lang_ft', 'ratio', 'color_r', 'color_g', 'color_b', 'percentage', 'color_H', 'color_S', 'color_V', 'name'])"
   ]
  },
  {
   "cell_type": "code",
   "execution_count": 18,
   "metadata": {},
   "outputs": [],
   "source": [
    "train_df = pd.get_dummies(train_df, columns=['name'], drop_first=True)\n",
    "train_df = pd.get_dummies(train_df, columns=['title_lang_ft'], drop_first=True)"
   ]
  },
  {
   "cell_type": "code",
   "execution_count": 3,
   "metadata": {},
   "outputs": [
    {
     "ename": "ValueError",
     "evalue": "invalid literal for int() with base 10: '0011d6be41612ec9eae3'",
     "output_type": "error",
     "traceback": [
      "\u001b[1;31m---------------------------------------------------------------------------\u001b[0m",
      "\u001b[1;31mValueError\u001b[0m                                Traceback (most recent call last)",
      "\u001b[1;32m<ipython-input-3-34b1494ea132>\u001b[0m in \u001b[0;36m<module>\u001b[1;34m\u001b[0m\n\u001b[0;32m      1\u001b[0m \u001b[0mfunction\u001b[0m \u001b[1;33m=\u001b[0m \u001b[1;32mlambda\u001b[0m \u001b[0mx\u001b[0m\u001b[1;33m:\u001b[0m \u001b[0mint\u001b[0m\u001b[1;33m(\u001b[0m\u001b[0mx\u001b[0m\u001b[1;33m)\u001b[0m\u001b[1;33m\u001b[0m\u001b[1;33m\u001b[0m\u001b[0m\n\u001b[1;32m----> 2\u001b[1;33m \u001b[0mtrain_df\u001b[0m\u001b[1;33m[\u001b[0m\u001b[1;34m'object_id'\u001b[0m\u001b[1;33m]\u001b[0m \u001b[1;33m=\u001b[0m \u001b[0mtrain_df\u001b[0m\u001b[1;33m[\u001b[0m\u001b[1;34m'object_id'\u001b[0m\u001b[1;33m]\u001b[0m\u001b[1;33m.\u001b[0m\u001b[0mapply\u001b[0m\u001b[1;33m(\u001b[0m\u001b[0mfunction\u001b[0m\u001b[1;33m)\u001b[0m\u001b[1;33m\u001b[0m\u001b[1;33m\u001b[0m\u001b[0m\n\u001b[0m",
      "\u001b[1;32m~\\AppData\\Roaming\\Python\\Python37\\site-packages\\pandas\\core\\series.py\u001b[0m in \u001b[0;36mapply\u001b[1;34m(self, func, convert_dtype, args, **kwds)\u001b[0m\n\u001b[0;32m   4136\u001b[0m             \u001b[1;32melse\u001b[0m\u001b[1;33m:\u001b[0m\u001b[1;33m\u001b[0m\u001b[1;33m\u001b[0m\u001b[0m\n\u001b[0;32m   4137\u001b[0m                 \u001b[0mvalues\u001b[0m \u001b[1;33m=\u001b[0m \u001b[0mself\u001b[0m\u001b[1;33m.\u001b[0m\u001b[0mastype\u001b[0m\u001b[1;33m(\u001b[0m\u001b[0mobject\u001b[0m\u001b[1;33m)\u001b[0m\u001b[1;33m.\u001b[0m\u001b[0m_values\u001b[0m\u001b[1;33m\u001b[0m\u001b[1;33m\u001b[0m\u001b[0m\n\u001b[1;32m-> 4138\u001b[1;33m                 \u001b[0mmapped\u001b[0m \u001b[1;33m=\u001b[0m \u001b[0mlib\u001b[0m\u001b[1;33m.\u001b[0m\u001b[0mmap_infer\u001b[0m\u001b[1;33m(\u001b[0m\u001b[0mvalues\u001b[0m\u001b[1;33m,\u001b[0m \u001b[0mf\u001b[0m\u001b[1;33m,\u001b[0m \u001b[0mconvert\u001b[0m\u001b[1;33m=\u001b[0m\u001b[0mconvert_dtype\u001b[0m\u001b[1;33m)\u001b[0m\u001b[1;33m\u001b[0m\u001b[1;33m\u001b[0m\u001b[0m\n\u001b[0m\u001b[0;32m   4139\u001b[0m \u001b[1;33m\u001b[0m\u001b[0m\n\u001b[0;32m   4140\u001b[0m         \u001b[1;32mif\u001b[0m \u001b[0mlen\u001b[0m\u001b[1;33m(\u001b[0m\u001b[0mmapped\u001b[0m\u001b[1;33m)\u001b[0m \u001b[1;32mand\u001b[0m \u001b[0misinstance\u001b[0m\u001b[1;33m(\u001b[0m\u001b[0mmapped\u001b[0m\u001b[1;33m[\u001b[0m\u001b[1;36m0\u001b[0m\u001b[1;33m]\u001b[0m\u001b[1;33m,\u001b[0m \u001b[0mSeries\u001b[0m\u001b[1;33m)\u001b[0m\u001b[1;33m:\u001b[0m\u001b[1;33m\u001b[0m\u001b[1;33m\u001b[0m\u001b[0m\n",
      "\u001b[1;32mpandas\\_libs\\lib.pyx\u001b[0m in \u001b[0;36mpandas._libs.lib.map_infer\u001b[1;34m()\u001b[0m\n",
      "\u001b[1;32m<ipython-input-3-34b1494ea132>\u001b[0m in \u001b[0;36m<lambda>\u001b[1;34m(x)\u001b[0m\n\u001b[1;32m----> 1\u001b[1;33m \u001b[0mfunction\u001b[0m \u001b[1;33m=\u001b[0m \u001b[1;32mlambda\u001b[0m \u001b[0mx\u001b[0m\u001b[1;33m:\u001b[0m \u001b[0mint\u001b[0m\u001b[1;33m(\u001b[0m\u001b[0mx\u001b[0m\u001b[1;33m)\u001b[0m\u001b[1;33m\u001b[0m\u001b[1;33m\u001b[0m\u001b[0m\n\u001b[0m\u001b[0;32m      2\u001b[0m \u001b[0mtrain_df\u001b[0m\u001b[1;33m[\u001b[0m\u001b[1;34m'object_id'\u001b[0m\u001b[1;33m]\u001b[0m \u001b[1;33m=\u001b[0m \u001b[0mtrain_df\u001b[0m\u001b[1;33m[\u001b[0m\u001b[1;34m'object_id'\u001b[0m\u001b[1;33m]\u001b[0m\u001b[1;33m.\u001b[0m\u001b[0mapply\u001b[0m\u001b[1;33m(\u001b[0m\u001b[0mfunction\u001b[0m\u001b[1;33m)\u001b[0m\u001b[1;33m\u001b[0m\u001b[1;33m\u001b[0m\u001b[0m\n",
      "\u001b[1;31mValueError\u001b[0m: invalid literal for int() with base 10: '0011d6be41612ec9eae3'"
     ]
    }
   ],
   "source": [
    "function = lambda x: int(x)\n",
    "train_df['object_id'] = train_df['object_id'].apply(function)"
   ]
  },
  {
   "cell_type": "code",
   "execution_count": 23,
   "metadata": {},
   "outputs": [
    {
     "data": {
      "text/html": [
       "<div>\n",
       "<style scoped>\n",
       "    .dataframe tbody tr th:only-of-type {\n",
       "        vertical-align: middle;\n",
       "    }\n",
       "\n",
       "    .dataframe tbody tr th {\n",
       "        vertical-align: top;\n",
       "    }\n",
       "\n",
       "    .dataframe thead th {\n",
       "        text-align: right;\n",
       "    }\n",
       "</style>\n",
       "<table border=\"1\" class=\"dataframe\">\n",
       "  <thead>\n",
       "    <tr style=\"text-align: right;\">\n",
       "      <th></th>\n",
       "      <th>0</th>\n",
       "      <th>1</th>\n",
       "      <th>2</th>\n",
       "    </tr>\n",
       "  </thead>\n",
       "  <tbody>\n",
       "    <tr>\n",
       "      <th>object_id</th>\n",
       "      <td>&lt;map object at 0x0000021AC7FC7DA0&gt;</td>\n",
       "      <td>&lt;map object at 0x0000021AC7FC7DA0&gt;</td>\n",
       "      <td>&lt;map object at 0x0000021AC7FC7DA0&gt;</td>\n",
       "    </tr>\n",
       "    <tr>\n",
       "      <th>art_series_id</th>\n",
       "      <td>95c14fb11c54281ad7e0</td>\n",
       "      <td>95c14fb11c54281ad7e0</td>\n",
       "      <td>95c14fb11c54281ad7e0</td>\n",
       "    </tr>\n",
       "    <tr>\n",
       "      <th>dating_sorting_date</th>\n",
       "      <td>1900.0</td>\n",
       "      <td>1900.0</td>\n",
       "      <td>1900.0</td>\n",
       "    </tr>\n",
       "    <tr>\n",
       "      <th>dating_year_early</th>\n",
       "      <td>1900.0</td>\n",
       "      <td>1900.0</td>\n",
       "      <td>1900.0</td>\n",
       "    </tr>\n",
       "    <tr>\n",
       "      <th>dating_year_late</th>\n",
       "      <td>1930.0</td>\n",
       "      <td>1930.0</td>\n",
       "      <td>1930.0</td>\n",
       "    </tr>\n",
       "    <tr>\n",
       "      <th>...</th>\n",
       "      <td>...</td>\n",
       "      <td>...</td>\n",
       "      <td>...</td>\n",
       "    </tr>\n",
       "    <tr>\n",
       "      <th>title_lang_ft___label__sk</th>\n",
       "      <td>0</td>\n",
       "      <td>0</td>\n",
       "      <td>0</td>\n",
       "    </tr>\n",
       "    <tr>\n",
       "      <th>title_lang_ft___label__sl</th>\n",
       "      <td>0</td>\n",
       "      <td>0</td>\n",
       "      <td>0</td>\n",
       "    </tr>\n",
       "    <tr>\n",
       "      <th>title_lang_ft___label__sq</th>\n",
       "      <td>0</td>\n",
       "      <td>0</td>\n",
       "      <td>0</td>\n",
       "    </tr>\n",
       "    <tr>\n",
       "      <th>title_lang_ft___label__sv</th>\n",
       "      <td>0</td>\n",
       "      <td>0</td>\n",
       "      <td>0</td>\n",
       "    </tr>\n",
       "    <tr>\n",
       "      <th>title_lang_ft___label__tr</th>\n",
       "      <td>0</td>\n",
       "      <td>0</td>\n",
       "      <td>0</td>\n",
       "    </tr>\n",
       "  </tbody>\n",
       "</table>\n",
       "<p>174 rows × 3 columns</p>\n",
       "</div>"
      ],
      "text/plain": [
       "                                                            0  \\\n",
       "object_id                  <map object at 0x0000021AC7FC7DA0>   \n",
       "art_series_id                            95c14fb11c54281ad7e0   \n",
       "dating_sorting_date                                    1900.0   \n",
       "dating_year_early                                      1900.0   \n",
       "dating_year_late                                       1930.0   \n",
       "...                                                       ...   \n",
       "title_lang_ft___label__sk                                   0   \n",
       "title_lang_ft___label__sl                                   0   \n",
       "title_lang_ft___label__sq                                   0   \n",
       "title_lang_ft___label__sv                                   0   \n",
       "title_lang_ft___label__tr                                   0   \n",
       "\n",
       "                                                            1  \\\n",
       "object_id                  <map object at 0x0000021AC7FC7DA0>   \n",
       "art_series_id                            95c14fb11c54281ad7e0   \n",
       "dating_sorting_date                                    1900.0   \n",
       "dating_year_early                                      1900.0   \n",
       "dating_year_late                                       1930.0   \n",
       "...                                                       ...   \n",
       "title_lang_ft___label__sk                                   0   \n",
       "title_lang_ft___label__sl                                   0   \n",
       "title_lang_ft___label__sq                                   0   \n",
       "title_lang_ft___label__sv                                   0   \n",
       "title_lang_ft___label__tr                                   0   \n",
       "\n",
       "                                                            2  \n",
       "object_id                  <map object at 0x0000021AC7FC7DA0>  \n",
       "art_series_id                            95c14fb11c54281ad7e0  \n",
       "dating_sorting_date                                    1900.0  \n",
       "dating_year_early                                      1900.0  \n",
       "dating_year_late                                       1930.0  \n",
       "...                                                       ...  \n",
       "title_lang_ft___label__sk                                   0  \n",
       "title_lang_ft___label__sl                                   0  \n",
       "title_lang_ft___label__sq                                   0  \n",
       "title_lang_ft___label__sv                                   0  \n",
       "title_lang_ft___label__tr                                   0  \n",
       "\n",
       "[174 rows x 3 columns]"
      ]
     },
     "execution_count": 23,
     "metadata": {},
     "output_type": "execute_result"
    }
   ],
   "source": [
    "train_df.head(3).T # len = 12026"
   ]
  },
  {
   "cell_type": "code",
   "execution_count": 19,
   "metadata": {},
   "outputs": [
    {
     "data": {
      "text/plain": [
       "194170"
      ]
     },
     "execution_count": 19,
     "metadata": {},
     "output_type": "execute_result"
    }
   ],
   "source": [
    "len(train_df)"
   ]
  }
 ],
 "metadata": {
  "kernelspec": {
   "display_name": "Python 3",
   "language": "python",
   "name": "python3"
  },
  "language_info": {
   "codemirror_mode": {
    "name": "ipython",
    "version": 3
   },
   "file_extension": ".py",
   "mimetype": "text/x-python",
   "name": "python",
   "nbconvert_exporter": "python",
   "pygments_lexer": "ipython3",
   "version": "3.7.3"
  }
 },
 "nbformat": 4,
 "nbformat_minor": 4
}
